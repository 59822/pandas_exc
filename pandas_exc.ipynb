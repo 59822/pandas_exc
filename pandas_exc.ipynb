{
 "cells": [
  {
   "cell_type": "markdown",
   "id": "61b52047-4d06-4d96-a1cf-fb954267fec6",
   "metadata": {},
   "source": [
    "Escribir una función que reciba un diccionario con las notas de los alumno de un curso y devuelva una serie con la nota mínima, la máxima, media y la desviación típica."
   ]
  },
  {
   "cell_type": "code",
   "execution_count": 4,
   "id": "fb66fe4f-3cc6-4e65-91d7-81fd99fd2909",
   "metadata": {},
   "outputs": [
    {
     "name": "stdout",
     "output_type": "stream",
     "text": [
      "Max                    4.000000\n",
      "Min                    9.000000\n",
      "Mean                   6.600000\n",
      "Standard Derivarion    2.162175\n",
      "dtype: float64\n"
     ]
    }
   ],
   "source": [
    "import pandas as pd\n",
    "\n",
    "def notas(x):\n",
    "    myvar = pd.Series(x)\n",
    "    final = pd.Series([myvar.min(), myvar.max(), myvar.mean(), myvar.std()], index = ['Max', 'Min', 'Mean', 'Standard Derivarion'])\n",
    "    return final\n",
    "\n",
    "print(notas({'Juan':9, 'María':6.5, 'Pedro':4, 'Carmen': 8.5, 'Luis': 5}))"
   ]
  },
  {
   "cell_type": "markdown",
   "id": "9e46991d-7499-48fc-961b-c98042cf9bfa",
   "metadata": {},
   "source": [
    "Escribir una función que reciba un diccionario con las notas de los alumnos de un curso y devuelva una serie con las notas de los alumnos aprobados ordenadas de mayor a menor."
   ]
  },
  {
   "cell_type": "code",
   "execution_count": 6,
   "id": "3092a881-6ad3-4b37-8828-17d406b39daa",
   "metadata": {},
   "outputs": [
    {
     "name": "stdout",
     "output_type": "stream",
     "text": [
      "Juan      9.0\n",
      "Carmen    8.5\n",
      "María     6.5\n",
      "dtype: float64\n"
     ]
    }
   ],
   "source": [
    "def nota1(x):\n",
    "    notas_aprobadas = {nombre: nota for nombre, nota in x.items() if nota > 5}\n",
    "\n",
    "    serie = pd.Series(notas_aprobadas)\n",
    "    return serie.sort_values(ascending = False)\n",
    "print(nota1({'Juan':9, 'María':6.5, 'Pedro':4, 'Carmen': 8.5, 'Luis': 5}))"
   ]
  },
  {
   "cell_type": "markdown",
   "id": "cffc1f58-1b44-43e2-ae8e-4fce97cb02c3",
   "metadata": {},
   "source": [
    "Escribir programa que genere y muestre por pantalla un DataFrame con los datos de la tabla siguiente:"
   ]
  },
  {
   "cell_type": "code",
   "execution_count": 8,
   "id": "d1bb484e-1ff2-4477-b7e9-507e385ea20c",
   "metadata": {},
   "outputs": [
    {
     "name": "stdout",
     "output_type": "stream",
     "text": [
      "       Mes  Ventas  Gastos\n",
      "0    Enero   30500   22000\n",
      "1  Febrero   35600   23400\n",
      "2    Marzo   28300   18100\n",
      "3    Abril   33900   20700\n",
      "None\n"
     ]
    }
   ],
   "source": [
    "def mes_venta_gastos(x):\n",
    "    y = pd.DataFrame(x)\n",
    "    print(y)\n",
    "    \n",
    "datos = {'Mes':['Enero', 'Febrero', 'Marzo', 'Abril'], 'Ventas':[30500, 35600, 28300, 33900], 'Gastos':[22000, 23400, 18100, 20700]}\n",
    "print(mes_venta_gastos(datos))\n"
   ]
  },
  {
   "cell_type": "markdown",
   "id": "25a31809-406d-4e73-9c68-d265bf3d714d",
   "metadata": {},
   "source": [
    "El fichero cotizacion.csv contiene las cotizaciones de las empresas del IBEX35 con las siguientes columnas: nombre (nombre de la empresa), Final (precio de la acción al cierre de bolsa), Máximo (precio máximo de la acción durante la jornada), Mínimo (precio mínimo de la acción durante la jornada), volumen (Volumen al cierre de bolsa), Efectivo (capitalización al cierre en miles de euros). Construir una función que construya un DataFrame a partir del un fichero con el formato anterior y devuelva otro DataFrame con el mínimo, el máximo y la media de dada columna."
   ]
  },
  {
   "cell_type": "code",
   "execution_count": 25,
   "id": "5670077e-e21c-423b-85ce-473b2abe5529",
   "metadata": {},
   "outputs": [
    {
     "name": "stdout",
     "output_type": "stream",
     "text": [
      "               Final        Máximo        Mínimo       Volumen    Efectivo\n",
      "Minimo      1.016500      4.067500      1.016500  1.221000e+03    2343.090\n",
      "Maximo  19705.000000  19875.000000  19675.000000  3.612969e+07  145765.440\n",
      "Media    2796.768757   3170.113357   3136.510471  4.252279e+06   31767.778\n"
     ]
    }
   ],
   "source": [
    "import pandas as pd\n",
    "df = pd.read_csv(r\"D:\\Downloads\\cotizacion.csv.csv\", sep=';', decimal=',', thousands='.', index_col = 0)\n",
    "# Primera columna indice del data frame\n",
    "otro = pd.DataFrame([df.min(), df.max(), df.mean()], index = ['Minimo', 'Maximo', 'Media'])\n",
    "print(otro)\n"
   ]
  },
  {
   "cell_type": "code",
   "execution_count": 4,
   "id": "f81cfebc-3cf6-4de1-bded-9f7d9425149c",
   "metadata": {},
   "outputs": [
    {
     "name": "stdout",
     "output_type": "stream",
     "text": [
      "     PassengerId  Survived  Pclass  \\\n",
      "0              1         0       3   \n",
      "1              2         1       1   \n",
      "2              3         1       3   \n",
      "3              4         1       1   \n",
      "4              5         0       3   \n",
      "..           ...       ...     ...   \n",
      "886          887         0       2   \n",
      "887          888         1       1   \n",
      "888          889         0       3   \n",
      "889          890         1       1   \n",
      "890          891         0       3   \n",
      "\n",
      "                                                  Name     Sex   Age  SibSp  \\\n",
      "0                              Braund, Mr. Owen Harris    male  22.0      1   \n",
      "1    Cumings, Mrs. John Bradley (Florence Briggs Th...  female  38.0      1   \n",
      "2                               Heikkinen, Miss. Laina  female  26.0      0   \n",
      "3         Futrelle, Mrs. Jacques Heath (Lily May Peel)  female  35.0      1   \n",
      "4                             Allen, Mr. William Henry    male  35.0      0   \n",
      "..                                                 ...     ...   ...    ...   \n",
      "886                              Montvila, Rev. Juozas    male  27.0      0   \n",
      "887                       Graham, Miss. Margaret Edith  female  19.0      0   \n",
      "888           Johnston, Miss. Catherine Helen \"Carrie\"  female   NaN      1   \n",
      "889                              Behr, Mr. Karl Howell    male  26.0      0   \n",
      "890                                Dooley, Mr. Patrick    male  32.0      0   \n",
      "\n",
      "     Parch            Ticket     Fare Cabin Embarked  \n",
      "0        0         A/5 21171   7.2500   NaN        S  \n",
      "1        0          PC 17599  71.2833   C85        C  \n",
      "2        0  STON/O2. 3101282   7.9250   NaN        S  \n",
      "3        0            113803  53.1000  C123        S  \n",
      "4        0            373450   8.0500   NaN        S  \n",
      "..     ...               ...      ...   ...      ...  \n",
      "886      0            211536  13.0000   NaN        S  \n",
      "887      0            112053  30.0000   B42        S  \n",
      "888      2        W./C. 6607  23.4500   NaN        S  \n",
      "889      0            111369  30.0000  C148        C  \n",
      "890      0            370376   7.7500   NaN        Q  \n",
      "\n",
      "[891 rows x 12 columns]\n",
      "<class 'pandas.core.frame.DataFrame'>\n",
      "RangeIndex: 891 entries, 0 to 890\n",
      "Data columns (total 12 columns):\n",
      " #   Column       Non-Null Count  Dtype  \n",
      "---  ------       --------------  -----  \n",
      " 0   PassengerId  891 non-null    int64  \n",
      " 1   Survived     891 non-null    int64  \n",
      " 2   Pclass       891 non-null    int64  \n",
      " 3   Name         891 non-null    object \n",
      " 4   Sex          891 non-null    object \n",
      " 5   Age          714 non-null    float64\n",
      " 6   SibSp        891 non-null    int64  \n",
      " 7   Parch        891 non-null    int64  \n",
      " 8   Ticket       891 non-null    object \n",
      " 9   Fare         891 non-null    float64\n",
      " 10  Cabin        204 non-null    object \n",
      " 11  Embarked     889 non-null    object \n",
      "dtypes: float64(2), int64(5), object(5)\n",
      "memory usage: 83.7+ KB\n",
      "None\n",
      "   PassengerId  Survived  Pclass  \\\n",
      "0            1         0       3   \n",
      "1            2         1       1   \n",
      "2            3         1       3   \n",
      "3            4         1       1   \n",
      "4            5         0       3   \n",
      "5            6         0       3   \n",
      "6            7         0       1   \n",
      "7            8         0       3   \n",
      "8            9         1       3   \n",
      "9           10         1       2   \n",
      "\n",
      "                                                Name     Sex   Age  SibSp  \\\n",
      "0                            Braund, Mr. Owen Harris    male  22.0      1   \n",
      "1  Cumings, Mrs. John Bradley (Florence Briggs Th...  female  38.0      1   \n",
      "2                             Heikkinen, Miss. Laina  female  26.0      0   \n",
      "3       Futrelle, Mrs. Jacques Heath (Lily May Peel)  female  35.0      1   \n",
      "4                           Allen, Mr. William Henry    male  35.0      0   \n",
      "5                                   Moran, Mr. James    male   NaN      0   \n",
      "6                            McCarthy, Mr. Timothy J    male  54.0      0   \n",
      "7                     Palsson, Master. Gosta Leonard    male   2.0      3   \n",
      "8  Johnson, Mrs. Oscar W (Elisabeth Vilhelmina Berg)  female  27.0      0   \n",
      "9                Nasser, Mrs. Nicholas (Adele Achem)  female  14.0      1   \n",
      "\n",
      "   Parch            Ticket     Fare Cabin Embarked  \n",
      "0      0         A/5 21171   7.2500   NaN        S  \n",
      "1      0          PC 17599  71.2833   C85        C  \n",
      "2      0  STON/O2. 3101282   7.9250   NaN        S  \n",
      "3      0            113803  53.1000  C123        S  \n",
      "4      0            373450   8.0500   NaN        S  \n",
      "5      0            330877   8.4583   NaN        Q  \n",
      "6      0             17463  51.8625   E46        S  \n",
      "7      1            349909  21.0750   NaN        S  \n",
      "8      2            347742  11.1333   NaN        S  \n",
      "9      0            237736  30.0708   NaN        C  \n",
      "     PassengerId  Survived  Pclass                                      Name  \\\n",
      "881          882         0       3                        Markun, Mr. Johann   \n",
      "882          883         0       3              Dahlberg, Miss. Gerda Ulrika   \n",
      "883          884         0       2             Banfield, Mr. Frederick James   \n",
      "884          885         0       3                    Sutehall, Mr. Henry Jr   \n",
      "885          886         0       3      Rice, Mrs. William (Margaret Norton)   \n",
      "886          887         0       2                     Montvila, Rev. Juozas   \n",
      "887          888         1       1              Graham, Miss. Margaret Edith   \n",
      "888          889         0       3  Johnston, Miss. Catherine Helen \"Carrie\"   \n",
      "889          890         1       1                     Behr, Mr. Karl Howell   \n",
      "890          891         0       3                       Dooley, Mr. Patrick   \n",
      "\n",
      "        Sex   Age  SibSp  Parch            Ticket     Fare Cabin Embarked  \n",
      "881    male  33.0      0      0            349257   7.8958   NaN        S  \n",
      "882  female  22.0      0      0              7552  10.5167   NaN        S  \n",
      "883    male  28.0      0      0  C.A./SOTON 34068  10.5000   NaN        S  \n",
      "884    male  25.0      0      0   SOTON/OQ 392076   7.0500   NaN        S  \n",
      "885  female  39.0      0      5            382652  29.1250   NaN        Q  \n",
      "886    male  27.0      0      0            211536  13.0000   NaN        S  \n",
      "887  female  19.0      0      0            112053  30.0000   B42        S  \n",
      "888  female   NaN      1      2        W./C. 6607  23.4500   NaN        S  \n",
      "889    male  26.0      0      0            111369  30.0000  C148        C  \n",
      "890    male  32.0      0      0            370376   7.7500   NaN        Q  \n"
     ]
    }
   ],
   "source": [
    "import pandas as pd\n",
    "\n",
    "dt = pd.read_csv(r\"D:\\Downloads\\titanic.csv\")\n",
    "print(pd.DataFrame(dt))\n",
    "print(dt.info())\n",
    "print(dt.head(10))\n",
    "print(dt.tail(10))"
   ]
  },
  {
   "cell_type": "code",
   "execution_count": 5,
   "id": "3041328a-10d1-4350-9c9b-f735f38f1342",
   "metadata": {},
   "outputs": [
    {
     "name": "stdout",
     "output_type": "stream",
     "text": [
      "PassengerId                                         149\n",
      "Survived                                              0\n",
      "Pclass                                                2\n",
      "Name           Navratil, Mr. Michel (\"Louis M Hoffman\")\n",
      "Sex                                                male\n",
      "Age                                                36.5\n",
      "SibSp                                                 0\n",
      "Parch                                                 2\n",
      "Ticket                                           230080\n",
      "Fare                                               26.0\n",
      "Cabin                                                F2\n",
      "Embarked                                              S\n",
      "Name: 148, dtype: object\n"
     ]
    }
   ],
   "source": [
    "print(dt.loc[148])"
   ]
  },
  {
   "cell_type": "code",
   "execution_count": 6,
   "id": "e71f23c5-0014-41d5-87f8-766ac22bca7c",
   "metadata": {},
   "outputs": [
    {
     "name": "stdout",
     "output_type": "stream",
     "text": [
      "     PassengerId  Survived  Pclass  \\\n",
      "0              1         0       3   \n",
      "1              2         1       1   \n",
      "2              3         1       3   \n",
      "3              4         1       1   \n",
      "4              5         0       3   \n",
      "..           ...       ...     ...   \n",
      "886          887         0       2   \n",
      "887          888         1       1   \n",
      "888          889         0       3   \n",
      "889          890         1       1   \n",
      "890          891         0       3   \n",
      "\n",
      "                                                  Name     Sex   Age  SibSp  \\\n",
      "0                              Braund, Mr. Owen Harris    male  22.0      1   \n",
      "1    Cumings, Mrs. John Bradley (Florence Briggs Th...  female  38.0      1   \n",
      "2                               Heikkinen, Miss. Laina  female  26.0      0   \n",
      "3         Futrelle, Mrs. Jacques Heath (Lily May Peel)  female  35.0      1   \n",
      "4                             Allen, Mr. William Henry    male  35.0      0   \n",
      "..                                                 ...     ...   ...    ...   \n",
      "886                              Montvila, Rev. Juozas    male  27.0      0   \n",
      "887                       Graham, Miss. Margaret Edith  female  19.0      0   \n",
      "888           Johnston, Miss. Catherine Helen \"Carrie\"  female   NaN      1   \n",
      "889                              Behr, Mr. Karl Howell    male  26.0      0   \n",
      "890                                Dooley, Mr. Patrick    male  32.0      0   \n",
      "\n",
      "     Parch            Ticket     Fare Cabin Embarked  \n",
      "0        0         A/5 21171   7.2500   NaN        S  \n",
      "1        0          PC 17599  71.2833   C85        C  \n",
      "2        0  STON/O2. 3101282   7.9250   NaN        S  \n",
      "3        0            113803  53.1000  C123        S  \n",
      "4        0            373450   8.0500   NaN        S  \n",
      "..     ...               ...      ...   ...      ...  \n",
      "886      0            211536  13.0000   NaN        S  \n",
      "887      0            112053  30.0000   B42        S  \n",
      "888      2        W./C. 6607  23.4500   NaN        S  \n",
      "889      0            111369  30.0000  C148        C  \n",
      "890      0            370376   7.7500   NaN        Q  \n",
      "\n",
      "[891 rows x 12 columns]\n"
     ]
    }
   ],
   "source": [
    "print(pd.DataFrame(dt))"
   ]
  },
  {
   "cell_type": "code",
   "execution_count": 9,
   "id": "e7d16851-1308-4843-bf05-6aec70a9d94b",
   "metadata": {},
   "outputs": [
    {
     "name": "stdout",
     "output_type": "stream",
     "text": [
      "<class 'pandas.core.frame.DataFrame'>\n",
      "RangeIndex: 891 entries, 0 to 890\n",
      "Data columns (total 12 columns):\n",
      " #   Column       Non-Null Count  Dtype  \n",
      "---  ------       --------------  -----  \n",
      " 0   PassengerId  891 non-null    int64  \n",
      " 1   Survived     891 non-null    int64  \n",
      " 2   Pclass       891 non-null    int64  \n",
      " 3   Name         891 non-null    object \n",
      " 4   Sex          891 non-null    object \n",
      " 5   Age          714 non-null    float64\n",
      " 6   SibSp        891 non-null    int64  \n",
      " 7   Parch        891 non-null    int64  \n",
      " 8   Ticket       891 non-null    object \n",
      " 9   Fare         891 non-null    float64\n",
      " 10  Cabin        204 non-null    object \n",
      " 11  Embarked     889 non-null    object \n",
      "dtypes: float64(2), int64(5), object(5)\n",
      "memory usage: 83.7+ KB\n",
      "None\n"
     ]
    }
   ],
   "source": [
    "print(dt.info())"
   ]
  },
  {
   "cell_type": "code",
   "execution_count": 7,
   "id": "0d2b1959-bc5b-4122-b316-b0f7e5df1342",
   "metadata": {},
   "outputs": [
    {
     "name": "stdout",
     "output_type": "stream",
     "text": [
      "730                      Allen, Miss. Elisabeth Walton\n",
      "305                     Allison, Master. Hudson Trevor\n",
      "297                       Allison, Miss. Helen Loraine\n",
      "498    Allison, Mrs. Hudson J C (Bessie Waldo Daniels)\n",
      "460                                Anderson, Mr. Harry\n",
      "                            ...                       \n",
      "155                        Williams, Mr. Charles Duane\n",
      "351             Williams-Lambert, Mr. Fletcher Fellows\n",
      "55                                   Woolner, Mr. Hugh\n",
      "555                                 Wright, Mr. George\n",
      "325                           Young, Miss. Marie Grice\n",
      "Name: Name, Length: 216, dtype: object\n"
     ]
    }
   ],
   "source": [
    "print(dt[dt[\"Pclass\"] ==1]['Name'].sort_values())"
   ]
  },
  {
   "cell_type": "code",
   "execution_count": 11,
   "id": "7a9d19b9-3e86-4832-8b5e-2b8469f45daf",
   "metadata": {},
   "outputs": [
    {
     "name": "stdout",
     "output_type": "stream",
     "text": [
      "Survived\n",
      "0    61.616162\n",
      "1    38.383838\n",
      "Name: count, dtype: float64\n"
     ]
    }
   ],
   "source": [
    "# Los que sobrevivieron y murieron\n",
    "print(dt['Survived'].value_counts()/dt['Survived'].count()*100)\n",
    "#value_counts es el numero de ocurrencias\n",
    "#count es el numero total"
   ]
  },
  {
   "cell_type": "code",
   "execution_count": 14,
   "id": "2f013f80-b619-4e2c-b86e-e625cd6d0929",
   "metadata": {},
   "outputs": [
    {
     "name": "stdout",
     "output_type": "stream",
     "text": [
      "Survived   NaN\n",
      "Die        NaN\n",
      "Name: count, dtype: float64\n"
     ]
    }
   ],
   "source": [
    "er = dt['Survived'].value_counts()/dt['Survived'].count()*100\n",
    "oki  = pd.Series(er, index = ['Survived', 'Die'])    \n",
    "print(oki)"
   ]
  },
  {
   "cell_type": "code",
   "execution_count": 17,
   "id": "4826cd17-f012-4401-941e-1127bcf737a5",
   "metadata": {},
   "outputs": [
    {
     "name": "stdout",
     "output_type": "stream",
     "text": [
      "              count\n",
      "Survived  61.616162\n",
      "Died      38.383838\n"
     ]
    }
   ],
   "source": [
    "import pandas as pd\n",
    "\n",
    "# Calcula el porcentaje de personas que sobrevivieron y murieron\n",
    "porcentaje = dt['Survived'].value_counts() / dt['Survived'].count() * 100\n",
    "# Creacion del data Frame para poder cambiar\n",
    "okk = pd.DataFrame(porcentaje)\n",
    "\n",
    "okk.index = ['Survived', 'Died']\n",
    "\n",
    "print(okk)"
   ]
  },
  {
   "cell_type": "code",
   "execution_count": 19,
   "id": "9482f96c-708e-4f0e-94bc-a079219511f3",
   "metadata": {},
   "outputs": [
    {
     "name": "stdout",
     "output_type": "stream",
     "text": [
      "Pclass  Survived\n",
      "1       1           62.962963\n",
      "        0           37.037037\n",
      "2       0           52.717391\n",
      "        1           47.282609\n",
      "3       0           75.763747\n",
      "        1           24.236253\n",
      "Name: proportion, dtype: float64\n"
     ]
    }
   ],
   "source": [
    "#los q si vivieron por clases\n",
    "#dt.groupby\n",
    "porcentaje_clase = dt.groupby('Pclass')['Survived'].value_counts(normalize = True) *100\n",
    "#normalize true es para q cuente valores absolutos\n",
    "print(porcentaje_clase)"
   ]
  },
  {
   "cell_type": "code",
   "execution_count": 22,
   "id": "757af4ee-4813-4c10-9354-8b68cbdca047",
   "metadata": {},
   "outputs": [
    {
     "name": "stdout",
     "output_type": "stream",
     "text": [
      "Pclass  Survived\n",
      "1       survived    0.629630\n",
      "        died        0.370370\n",
      "2       died        0.527174\n",
      "        survived    0.472826\n",
      "3       died        0.757637\n",
      "        survived    0.242363\n",
      "Name: proportion, dtype: float64\n"
     ]
    }
   ],
   "source": [
    "import pandas as pd\n",
    "\n",
    "# Reemplazar los valores en la columna 'Survived' con 'survived' y 'died'\n",
    "dt['Survived'] = dt['Survived'].replace({0: 'died', 1: 'survived'})\n",
    "\n",
    "# Agrupar y contar los valores, luego normalizar\n",
    "resultados = dt.groupby('Pclass')['Survived'].value_counts(normalize=True)\n",
    "\n",
    "# Imprimir los resultados\n",
    "print(resultados)\n"
   ]
  },
  {
   "cell_type": "code",
   "execution_count": 23,
   "id": "4caadba3-31af-4f77-89d9-40c17a2459fc",
   "metadata": {},
   "outputs": [],
   "source": [
    "dt['Young'] = dt['Age'] > 18"
   ]
  },
  {
   "cell_type": "code",
   "execution_count": null,
   "id": "ed6d94bf-4453-43ec-afb6-e8b54287196a",
   "metadata": {},
   "outputs": [],
   "source": [
    "# Mostrar el porcentaje de menores y mayores de edad que sobrevivieron en cada clase.\n",
    "print(dt.groupby(['Pclass', 'Young'])['Survived'].value_counts(normalize = True) * 100)"
   ]
  }
 ],
 "metadata": {
  "kernelspec": {
   "display_name": "Python 3 (ipykernel)",
   "language": "python",
   "name": "python3"
  },
  "language_info": {
   "codemirror_mode": {
    "name": "ipython",
    "version": 3
   },
   "file_extension": ".py",
   "mimetype": "text/x-python",
   "name": "python",
   "nbconvert_exporter": "python",
   "pygments_lexer": "ipython3",
   "version": "3.11.7"
  }
 },
 "nbformat": 4,
 "nbformat_minor": 5
}
